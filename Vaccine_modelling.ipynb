{
 "cells": [
  {
   "cell_type": "markdown",
   "metadata": {
    "tags": []
   },
   "source": [
    "# **PROJECT QUESTION 2**"
   ]
  },
  {
   "cell_type": "markdown",
   "metadata": {
    "tags": []
   },
   "source": [
    "# Vaccine Distribution Modelling"
   ]
  },
  {
   "cell_type": "markdown",
   "metadata": {},
   "source": [
    "### Import constrain & Pandas Libraries"
   ]
  },
  {
   "cell_type": "code",
   "execution_count": 1,
   "metadata": {},
   "outputs": [],
   "source": [
    "import constraint\n",
    "import pandas as pd"
   ]
  },
  {
   "cell_type": "markdown",
   "metadata": {},
   "source": [
    "### Initialize Data Array"
   ]
  },
  {
   "cell_type": "code",
   "execution_count": 2,
   "metadata": {},
   "outputs": [],
   "source": [
    "#          1    2     3    4    5\n",
    "state = [5000,10000,7500,8500,9500] # maximum capacity per day\n",
    "\n",
    "indicator = 1         \n",
    "                    #state 1        #state 2        #state 3        #state 4        #state 5\n",
    "numOfVacCenter = [[21,16,11,22,6],[31,17,16,11,3],[23,16,12,13,4],[17,17,17,16,2],[20,11,21,16,2]]\n",
    "\n",
    "                  #state 1   #state 2   #state 3   #state 4   #state 5            \n",
    "vacPopulation = [[21,50,30],[24,44,40],[33,69,57],[31,44,55],[29,39,38]]\n",
    "                              \n",
    "totalPopulation = [565790,514544,889038,1153093,690884]"
   ]
  },
  {
   "cell_type": "markdown",
   "metadata": {},
   "source": [
    "### Transfer the data to csv file"
   ]
  },
  {
   "cell_type": "markdown",
   "metadata": {},
   "source": [
    "This csv file will be use in streamlit later on"
   ]
  },
  {
   "cell_type": "code",
   "execution_count": 3,
   "metadata": {},
   "outputs": [],
   "source": [
    "def transData(State,Total_Population,Total_Vaccine,Centre_Cappacity,Vaccine_Center,Rental,Total_Day,Vaccine_A,VacA_PerDay,Vaccine_B,VacB_PerDay,Vaccine_C,VacC_PerDay):\n",
    "    # reading the csv file\n",
    "    df = pd.read_csv(\"data.csv\")\n",
    "  \n",
    "    # updating the column value/data\n",
    "    df.at[State-1, 'State'] = State\n",
    "    df.at[State-1, 'Total_Population'] = Total_Population\n",
    "    df.at[State-1, 'Total_Vaccine'] = Total_Vaccine\n",
    "    df.at[State-1, 'Centre_Cappacity'] = Centre_Cappacity\n",
    "    df.at[State-1, 'Vaccine_Center'] = Vaccine_Center\n",
    "    df.at[State-1, 'Rental'] = Rental\n",
    "    df.at[State-1, 'Total_Day'] = Total_Day\n",
    "    df.at[State-1, 'Vaccine_A'] = Vaccine_A\n",
    "    df.at[State-1, 'VacA_PerDay'] = VacA_PerDay\n",
    "    df.at[State-1, 'Vaccine_B'] = Vaccine_B\n",
    "    df.at[State-1, 'VacB_PerDay'] = VacB_PerDay\n",
    "    df.at[State-1, 'Vaccine_C'] = Vaccine_C\n",
    "    df.at[State-1, 'VacC_PerDay'] = VacC_PerDay\n",
    "  \n",
    "    # writing into the file\n",
    "    df.to_csv(\"data.csv\", index=False)\n"
   ]
  },
  {
   "cell_type": "markdown",
   "metadata": {},
   "source": [
    "### Constraint of vaccination centre will be use per day"
   ]
  },
  {
   "cell_type": "markdown",
   "metadata": {},
   "source": [
    "This part will find posible value of vaccination center that will be use for each state"
   ]
  },
  {
   "cell_type": "code",
   "execution_count": 4,
   "metadata": {},
   "outputs": [],
   "source": [
    "# number of vaccination centre will be use per day \n",
    "def capacity_constraint(cr1, cr2, cr3, cr4, cr5):\n",
    "    if indicator == 1:\n",
    "        if (cr1*200 + cr2*500 + cr3*1000 + cr4*2500 + cr5*4000) == state[indicator-1]: #kira capacity for 5000 people\n",
    "            return True\n",
    "    if indicator == 2:\n",
    "        if (cr1*200 + cr2*500 + cr3*1000 + cr4*2500 + cr5*4000) == state[indicator-1]: #kira capacity for 10000 people\n",
    "            return True\n",
    "    if indicator == 3:\n",
    "        if (cr1*200 + cr2*500 + cr3*1000 + cr4*2500 + cr5*4000) == state[indicator-1]: #kira capacity for 7500 people\n",
    "            return True\n",
    "    if indicator == 4:\n",
    "        if (cr1*200 + cr2*500 + cr3*1000 + cr4*2500 + cr5*4000) == state[indicator-1]: #kira capacity for 8500 people\n",
    "            return True\n",
    "    if indicator == 5:\n",
    "        if (cr1*200 + cr2*500 + cr3*1000 + cr4*2500 + cr5*4000) == state[indicator-1]: #kira capacity for 9500 people\n",
    "            return True"
   ]
  },
  {
   "cell_type": "markdown",
   "metadata": {},
   "source": [
    "### Number of vaccination distribution based on state population"
   ]
  },
  {
   "cell_type": "markdown",
   "metadata": {},
   "source": [
    "This part will find posible value of vaccine that will be distribute for each state"
   ]
  },
  {
   "cell_type": "code",
   "execution_count": 5,
   "metadata": {},
   "outputs": [],
   "source": [
    "# number of vaccination distribution based on state population \n",
    "def vac_constraint(vacA, vacB, vacC): \n",
    "    if indicator == 1:\n",
    "        if (vacA*750 + vacB*8900 + vacC*4000) >= totalPopulation[indicator-1]: #kira posible number of vaccine distributed for 565790\n",
    "            return True\n",
    "    if indicator == 2:\n",
    "        if (vacA*1550 + vacB*9000 + vacC*2520) >= totalPopulation[indicator-1]: #kira posible number of vaccine distributed for 514544\n",
    "            return True\n",
    "    if indicator == 3:\n",
    "        if (vacA*700 + vacB*9500 + vacC*4000) >= totalPopulation[indicator-1]: #kira posible number of vaccine distributed for 889038\n",
    "            return True\n",
    "    if indicator == 4:\n",
    "        if (vacA*800 + vacB*20000 + vacC*5000) >= totalPopulation[indicator-1]: #kira posible number of vaccine distributed for 1153093\n",
    "            return True\n",
    "    if indicator == 5:\n",
    "        if (vacA*700 + vacB*12000 + vacC*6000) >= totalPopulation[indicator-1]: #kira posible number of vaccine distributed for 690884\n",
    "            return True"
   ]
  },
  {
   "cell_type": "markdown",
   "metadata": {},
   "source": [
    "### Repeat solution 5 time for --> State 1, State2, State 3, State 4, State 5"
   ]
  },
  {
   "cell_type": "markdown",
   "metadata": {},
   "source": [
    "This part will repeat 5 times to find a solution for assigning the right vaccine types and amount to the vaccination\n",
    "centres in 5 state."
   ]
  },
  {
   "cell_type": "code",
   "execution_count": 6,
   "metadata": {},
   "outputs": [
    {
     "name": "stdout",
     "output_type": "stream",
     "text": [
      "  \n",
      "    ST-1\n",
      "    Total Population : 565790\n",
      "    Total Vaccine Needed : 566350\n",
      "    Maximum Total Vaccine Distributed Per Day : 5000 \n",
      "    Vaccines Centre Used : CR-4 : 2  \n",
      "    Rental Per Day : 1600\n",
      "    Total Days Needed : 114\n",
      "    --------------------------\n",
      "    Total Vaccine A Needed : 14250  \n",
      "    Average Vaccine A Distributed Per Day : 125 \n",
      "    Total Vaccine B Needed : 436100 \n",
      "    Average Vaccine B Distributed Per Day : 3825 \n",
      "    Total Vaccine C Needed : 116000 \n",
      "    Average Vaccine C Distributed Per Day : 1018 \n",
      "    \n",
      "  \n",
      "    ST-2\n",
      "    Total Population : 514544\n",
      "    Total Vaccine Needed : 514730\n",
      "    Maximum Total Vaccine Distributed Per Day : 10000 \n",
      "    Vaccines Centre Used : CR-4 : 4  \n",
      "    Rental Per Day : 3200\n",
      "    Total Days Needed : 52\n",
      "    --------------------------\n",
      "    Total Vaccine A Needed : 29450  \n",
      "    Average Vaccine A Distributed Per Day : 566 \n",
      "    Total Vaccine B Needed : 387000 \n",
      "    Average Vaccine B Distributed Per Day : 7442 \n",
      "    Total Vaccine C Needed : 98280 \n",
      "    Average Vaccine C Distributed Per Day : 1890 \n",
      "    \n",
      "  \n",
      "    ST-3\n",
      "    Total Population : 889038\n",
      "    Total Vaccine Needed : 889600\n",
      "    Maximum Total Vaccine Distributed Per Day : 7500 \n",
      "    Vaccines Centre Used : CR-4 : 3  \n",
      "    Rental Per Day : 2400\n",
      "    Total Days Needed : 119\n",
      "    --------------------------\n",
      "    Total Vaccine A Needed : 19600  \n",
      "    Average Vaccine A Distributed Per Day : 165 \n",
      "    Total Vaccine B Needed : 646000 \n",
      "    Average Vaccine B Distributed Per Day : 5429 \n",
      "    Total Vaccine C Needed : 224000 \n",
      "    Average Vaccine C Distributed Per Day : 1882 \n",
      "    \n",
      "  \n",
      "    ST-4\n",
      "    Total Population : 1153093\n",
      "    Total Vaccine Needed : 849300\n",
      "    Maximum Total Vaccine Distributed Per Day : 8500 \n",
      "    Vaccines Centre Used : CR-1 : 5,CR-4 : 3  \n",
      "    Rental Per Day : 2900\n",
      "    Total Days Needed : 100\n",
      "    --------------------------\n",
      "    Total Vaccine A Needed : 20300  \n",
      "    Average Vaccine A Distributed Per Day : 203 \n",
      "    Total Vaccine B Needed : 559000 \n",
      "    Average Vaccine B Distributed Per Day : 5590 \n",
      "    Total Vaccine C Needed : 270000 \n",
      "    Average Vaccine C Distributed Per Day : 2700 \n",
      "    \n",
      "  \n",
      "    ST-5\n",
      "    Total Population : 690884\n",
      "    Total Vaccine Needed : 691300\n",
      "    Maximum Total Vaccine Distributed Per Day : 9500 \n",
      "    Vaccines Centre Used : CR-2 : 1,CR-4 : 2,CR-5 : 1  \n",
      "    Rental Per Day : 3050\n",
      "    Total Days Needed : 73\n",
      "    --------------------------\n",
      "    Total Vaccine A Needed : 13300  \n",
      "    Average Vaccine A Distributed Per Day : 182 \n",
      "    Total Vaccine B Needed : 456000 \n",
      "    Average Vaccine B Distributed Per Day : 6247 \n",
      "    Total Vaccine C Needed : 222000 \n",
      "    Average Vaccine C Distributed Per Day : 3041 \n",
      "    \n"
     ]
    }
   ],
   "source": [
    "#indicator --> state number (contoh: indicator 1 = state 1)\n",
    "while indicator < 6:\n",
    "    problem = constraint.Problem()\n",
    "    problem2 = constraint.Problem()\n",
    "                \n",
    "    problem.addVariable('A', range(numOfVacCenter[indicator-1][0]))  # CR-1 \n",
    "    problem.addVariable('B', range(numOfVacCenter[indicator-1][1]))  # CR-2 \n",
    "    problem.addVariable('C', range(numOfVacCenter[indicator-1][2]))  # CR-3  \n",
    "    problem.addVariable('D', range(numOfVacCenter[indicator-1][3]))  # CR-4   \n",
    "    problem.addVariable('E', range(numOfVacCenter[indicator-1][4]))  # CR-5 \n",
    "\n",
    "    problem2.addVariable('F', range(vacPopulation[indicator-1][0]))  # VAC-A \n",
    "    problem2.addVariable('G', range(vacPopulation[indicator-1][1]))  # VAC-B \n",
    "    problem2.addVariable('H', range(vacPopulation[indicator-1][2]))  # VAC-C \n",
    "\n",
    "    problem.addConstraint(capacity_constraint, 'ABCDE')\n",
    "    problem2.addConstraint(vac_constraint, 'FGH')\n",
    "\n",
    "    # -------------------------------------\n",
    "    # center capacity\n",
    "    min_Rental = 100000 \n",
    "    solution_foundVC = {}  \n",
    "    solutionsVC = problem.getSolutions()\n",
    "\n",
    "    # Get the conditions with min rental\n",
    "    # your answer here...\n",
    "    for s in solutionsVC:\n",
    "        current_Rental = s['A']*100 + s['B']*250 + s['C']*500 + s['D']*800 + s['E']*1200\n",
    "        if ((current_Rental < min_Rental)&(current_Rental > 0)): # cari combination vaccine center with min rental price\n",
    "            min_Rental = current_Rental\n",
    "            solution_foundVC = s\n",
    "    # -------------------------------------\n",
    "    # vaccine distributed\n",
    "    minVacDistribute = 1000000000\n",
    "    solution_foundMinVac = {}  \n",
    "    solutionsMinVac = problem2.getSolutions()\n",
    "    day_needed = 0\n",
    "\n",
    "    # Get the conditions with min population requirement\n",
    "    for s in solutionsMinVac:\n",
    "        # print(s['F'], \"|\", s['G'], \"|\", s['H'])\n",
    "        # print(s['F'] + s['G'] + s['H'] )\n",
    "        currentMinVacDistribute = s['F'] + s['G'] + s['H']\n",
    "        if ((currentMinVacDistribute < minVacDistribute)&(currentMinVacDistribute > 0)): # cari combination agihan vaccine yang cukup-cukup dengan population\n",
    "            minVacDistribute = currentMinVacDistribute\n",
    "            solution_foundMinVac = s\n",
    "            tempS = s\n",
    "\n",
    "    #total vacine needed per vaccine type\n",
    "    if indicator == 1:\n",
    "        totalVacA = solution_foundMinVac['F']*750   # vaccine A\n",
    "        totalVacB = solution_foundMinVac['G']*8900  # vaccine B\n",
    "        totalVacC = solution_foundMinVac['H']*4000  # vaccine C\n",
    "    if indicator == 2:\n",
    "        totalVacA = solution_foundMinVac['F']*1550  # vaccine A\n",
    "        totalVacB = solution_foundMinVac['G']*9000  # vaccine B\n",
    "        totalVacC = solution_foundMinVac['H']*2520  # vaccine C\n",
    "    if indicator == 3:\n",
    "        totalVacA = solution_foundMinVac['F']*700   # vaccine A\n",
    "        totalVacB = solution_foundMinVac['G']*9500  # vaccine B\n",
    "        totalVacC = solution_foundMinVac['H']*4000  # vaccine C\n",
    "    if indicator == 4:\n",
    "        totalVacA = solution_foundMinVac['F']*700   # vaccine A\n",
    "        totalVacB = solution_foundMinVac['G']*13000 # vaccine B\n",
    "        totalVacC = solution_foundMinVac['H']*5000  # vaccine C\n",
    "    if indicator == 5:\n",
    "        totalVacA = solution_foundMinVac['F']*700   # vaccine A\n",
    "        totalVacB = solution_foundMinVac['G']*12000 # vaccine B\n",
    "        totalVacC = solution_foundMinVac['H']*6000  # vaccine C\n",
    "\n",
    "    #total vacine needed per State\n",
    "    totalVacNeeded = totalVacA + totalVacB + totalVacC\n",
    "    # print(\"test -->\",totalVacNeeded)\n",
    "    tempTotalVac = totalVacNeeded # temporary data\n",
    "\n",
    "    while tempTotalVac > 0:\n",
    "        tempTotalVac = tempTotalVac - state[indicator-1]\n",
    "        day_needed = day_needed + 1\n",
    "    \n",
    "    #average vaccine per day\n",
    "    avgVacAPerDay = round(totalVacA/day_needed)\n",
    "    avgVacBPerDay = round(totalVacB/day_needed)\n",
    "    avgVacCPerDay = round(totalVacC/day_needed)  \n",
    "\n",
    "    vaccineCenterLst = [] # list of vacine center that been used\n",
    "    i = 0\n",
    "    if solution_foundVC['A'] > 0: #check if 'CR-1' vaccine center been used\n",
    "        vaccineCenterLst.insert(i,\"\"\"CR-1 : {}\"\"\".format(solution_foundVC['A']))\n",
    "        i=i+1\n",
    "    if solution_foundVC['B'] > 0:  #check if 'CR-2' vaccine center been used\n",
    "        vaccineCenterLst.insert(i,\"\"\"CR-2 : {}\"\"\".format(solution_foundVC['B']))\n",
    "        i=i+1\n",
    "    if solution_foundVC['C'] > 0:  #check if 'CR-3' vaccine center been used\n",
    "        vaccineCenterLst.insert(i,\"\"\"CR-3 : {}\"\"\".format(solution_foundVC['C']))\n",
    "        i=i+1\n",
    "    if solution_foundVC['D'] > 0:  #check if 'CR-4' vaccine center been used\n",
    "        vaccineCenterLst.insert(i,\"\"\"CR-4 : {}\"\"\".format(solution_foundVC['D']))\n",
    "        i=i+1\n",
    "    if solution_foundVC['E'] > 0:  #check if 'CR-5' vaccine center been used\n",
    "        vaccineCenterLst.insert(i,\"\"\"CR-5 : {}\"\"\".format(solution_foundVC['E']))\n",
    "        i=i+1\n",
    "        \n",
    "    vacCenterUsed = s = \",\".join(vaccineCenterLst)\n",
    "    transData(indicator,totalPopulation[indicator-1],totalVacNeeded,state[indicator-1],vacCenterUsed,min_Rental,day_needed,totalVacA,avgVacAPerDay,totalVacB,avgVacBPerDay,totalVacC,avgVacCPerDay)\n",
    "    print(\"\"\"  \n",
    "    ST-{}\n",
    "    Total Population : {}\n",
    "    Total Vaccine Needed : {}\n",
    "    Maximum Total Vaccine Distributed Per Day : {} \n",
    "    Vaccines Centre Used : {}  \n",
    "    Rental Per Day : {}\n",
    "    Total Days Needed : {}\n",
    "    --------------------------\n",
    "    Total Vaccine A Needed : {}  \n",
    "    Average Vaccine A Distributed Per Day : {} \n",
    "    Total Vaccine B Needed : {} \n",
    "    Average Vaccine B Distributed Per Day : {} \n",
    "    Total Vaccine C Needed : {} \n",
    "    Average Vaccine C Distributed Per Day : {} \n",
    "    \"\"\".format(indicator,totalPopulation[indicator-1],totalVacNeeded,state[indicator-1],vacCenterUsed,min_Rental,day_needed,totalVacA,avgVacAPerDay,totalVacB,avgVacBPerDay,totalVacC,avgVacCPerDay))\n",
    "    indicator = indicator + 1\n",
    "\n"
   ]
  }
 ],
 "metadata": {
  "kernelspec": {
   "display_name": "Python 3 (ipykernel)",
   "language": "python",
   "name": "python3"
  },
  "language_info": {
   "codemirror_mode": {
    "name": "ipython",
    "version": 3
   },
   "file_extension": ".py",
   "mimetype": "text/x-python",
   "name": "python",
   "nbconvert_exporter": "python",
   "pygments_lexer": "ipython3",
   "version": "3.9.7"
  }
 },
 "nbformat": 4,
 "nbformat_minor": 4
}
